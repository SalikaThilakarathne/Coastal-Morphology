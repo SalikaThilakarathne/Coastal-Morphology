{
 "cells": [
  {
   "cell_type": "markdown",
   "id": "58a99e27",
   "metadata": {},
   "source": [
    "<!DOCTYPE html>\n",
    "<html>\n",
    "<head>\n",
    "  <font color=\"#14213d\"><title>This is only for a limited data set: akilas 2023.05.27 — A Fragile Code by an Immature</title>\n",
    "</head>\n",
    "<body>\n",
    "  <font color=\"#14213d\"><h1>Work with laboratory pressure data</h1>\n",
    "  <p></p>\n",
    "  <a href=\"https://www.kaggle.com/code/lavanyashukla01/pandas-numpy-python-cheatsheet\">Click here</a> to pandas cheatsheet.\n",
    "</body>\n",
    "</html>\n"
   ]
  },
  {
   "cell_type": "code",
   "execution_count": 2,
   "id": "162fb67c",
   "metadata": {},
   "outputs": [],
   "source": [
    "import pandas as pd\n",
    "import numpy as np\n",
    "# import dataframe_image as dfi\n",
    "import seaborn as sns\n",
    "import matplotlib.pyplot as plt\n",
    "import matplotlib as mpl\n",
    "from sklearn import linear_model\n",
    "import statsmodels.api as sm\n",
    "import time\n",
    "from datetime import datetime, timedelta, date, time\n",
    "from scipy.integrate import simps\n",
    "from numpy import trapz\n",
    "from scipy.ndimage.filters import gaussian_filter1d\n",
    "from sklearn.cluster import AgglomerativeClustering\n",
    "from scipy import interpolate\n",
    "import scipy.cluster.hierarchy as shc\n",
    "from scipy.signal import find_peaks\n",
    "import plotly.graph_objects as go\n",
    "import matplotlib.dates as mdates"
   ]
  },
  {
   "cell_type": "code",
   "execution_count": 3,
   "id": "49c09e84",
   "metadata": {},
   "outputs": [],
   "source": [
    "import math\n",
    "import tensorflow as tf\n",
    "from tensorflow.keras import Model\n",
    "from tensorflow.keras import Sequential\n",
    "import tensorflow.keras as keras\n",
    "from tensorflow.keras.optimizers import Adam\n",
    "from sklearn.preprocessing import StandardScaler\n",
    "import sklearn\n",
    "from tensorflow.keras.layers import Dense, Dropout\n",
    "from sklearn.model_selection import train_test_split\n",
    "from tensorflow.keras.losses import MeanSquaredLogarithmicError\n",
    "from tensorflow.keras.losses import MeanSquaredError\n",
    "from sklearn.metrics import r2_score\n",
    "from sklearn.metrics import mean_squared_error\n",
    "from scipy.stats import pearsonr"
   ]
  },
  {
   "cell_type": "markdown",
   "id": "63d05481",
   "metadata": {},
   "source": [
    "## Function definitions"
   ]
  },
  {
   "cell_type": "code",
   "execution_count": 4,
   "id": "2da980a2",
   "metadata": {},
   "outputs": [],
   "source": [
    "def normalize(series):\n",
    "    result = series.copy()\n",
    "    max_value = result.max()\n",
    "    min_value = result.min()\n",
    "    result = (result - min_value) / (max_value - min_value)\n",
    "    return result "
   ]
  },
  {
   "cell_type": "code",
   "execution_count": 5,
   "id": "eb69aae2",
   "metadata": {},
   "outputs": [],
   "source": [
    "def normalize_max(series):\n",
    "    result = series.copy()\n",
    "    max_value = result.max()\n",
    "    result = (result) / (max_value)\n",
    "    return result "
   ]
  },
  {
   "cell_type": "markdown",
   "id": "047a6f8b",
   "metadata": {},
   "source": [
    "## scientific graphs"
   ]
  },
  {
   "cell_type": "code",
   "execution_count": 15,
   "id": "5420cd65",
   "metadata": {},
   "outputs": [],
   "source": [
    "def scientific_graphs():\n",
    "    plt.rcdefaults()\n",
    "    plt.rcParams.update({'font.size': 7})\n",
    "    plt.style.use(['science','no-latex'])\n",
    "    \n",
    "def default_graphs():\n",
    "    plt.rcdefaults()\n",
    "    plt.rcParams.update({'font.size': 7})    "
   ]
  },
  {
   "cell_type": "markdown",
   "id": "c6f65b74",
   "metadata": {},
   "source": [
    "###  Histogram for a series"
   ]
  },
  {
   "cell_type": "code",
   "execution_count": 16,
   "id": "d28c421d",
   "metadata": {},
   "outputs": [],
   "source": [
    "def distribution_series_name(series, title):\n",
    "    fig, axs = plt.subplots(1,1,figsize = (3.8,1.6),dpi = 600)\n",
    "    sns_kde = sns.histplot(series, bins=25, kde=True, color=\"teal\")\n",
    "\n",
    "    plt.xlabel(title,fontweight=\"bold\")\n",
    "\n",
    "    kdeline = sns_kde.lines[0]\n",
    "    xs = kdeline.get_xdata()\n",
    "    ys = kdeline.get_ydata()\n",
    "    mode_idx = np.argmax(ys)\n",
    "    plt.axvline(x =xs[mode_idx], c = 'tab:green', linestyle = '-.',linewidth = 1, \n",
    "                label = 'mode = {:.3f}'.format(xs[mode_idx]))\n",
    "    plt.axvline(x = series.mean(), c = 'tab:orange', linestyle = '-.',linewidth = 1, \n",
    "                label = 'mean = {:.3f}'.format(series.mean()))\n",
    "    # plt.axvline(x =100, c = 'r', linestyle = '--',linewidth = 2)\n",
    "    plt.grid(axis = 'y',linewidth=0.2)\n",
    "    \n",
    "    legend = plt.legend(frameon = True)\n",
    "    legend.get_frame().set_linewidth(0.4)\n",
    "    legend.get_frame().set_edgecolor(\"k\")\n",
    "#     print(xs[mode_idx*2],xs[199])"
   ]
  },
  {
   "cell_type": "markdown",
   "id": "ae5a21af",
   "metadata": {},
   "source": [
    "# Data Cleansing"
   ]
  },
  {
   "cell_type": "code",
   "execution_count": 97,
   "id": "61e8e096",
   "metadata": {},
   "outputs": [],
   "source": [
    "data = pd.read_excel('R5_Edited_400A_0015.xlsx',index_col = 0)"
   ]
  },
  {
   "cell_type": "code",
   "execution_count": 98,
   "id": "144a85e5",
   "metadata": {},
   "outputs": [
    {
     "data": {
      "text/plain": [
       "Index([    'Shifted',        'PT_2',        'PT_4',        'PT_5',\n",
       "              'PT_6',  'Unnamed: 6',    'Cal_PT 2',    'Cal_PT 4',\n",
       "          'Cal_PT 5',    'Cal_PT 6', 'Unnamed: 11',    'P2 (kPa)',\n",
       "               'p/γ',    'P4 (kPa)',       'p/γ.1',    'P5 (kPa)',\n",
       "             'p/γ.2',    'P6 (kPa)',          'P2',             1,\n",
       "                   2,             3,             4,             5,\n",
       "                   6,             7,             8,             9,\n",
       "                  10,         'Avg', 'Unnamed: 31',    'Time (s)',\n",
       "       'Unnamed: 33',        'WG 3', 'Unnamed: 35', 'Unnamed: 36',\n",
       "       'Unnamed: 37', 'Unnamed: 38', 'Unnamed: 39', 'Unnamed: 40'],\n",
       "      dtype='object')"
      ]
     },
     "execution_count": 98,
     "metadata": {},
     "output_type": "execute_result"
    }
   ],
   "source": [
    "data.columns"
   ]
  },
  {
   "cell_type": "markdown",
   "id": "92bbffaf",
   "metadata": {},
   "source": [
    "<font color=\"#f28482\"><b><big> Check this, I have only selected 4 cols: </font>"
   ]
  },
  {
   "cell_type": "code",
   "execution_count": 130,
   "id": "7f55406a",
   "metadata": {},
   "outputs": [],
   "source": [
    "#select the pressue gauge measurments..., coloumn name should be as followed, otherwise change them accordingly\n",
    "selected_data = data.loc[:,['PT_2','PT_4', 'PT_5', 'PT_6']]"
   ]
  },
  {
   "cell_type": "code",
   "execution_count": 131,
   "id": "ea6b4b37",
   "metadata": {},
   "outputs": [
    {
     "data": {
      "text/html": [
       "<div>\n",
       "<style scoped>\n",
       "    .dataframe tbody tr th:only-of-type {\n",
       "        vertical-align: middle;\n",
       "    }\n",
       "\n",
       "    .dataframe tbody tr th {\n",
       "        vertical-align: top;\n",
       "    }\n",
       "\n",
       "    .dataframe thead th {\n",
       "        text-align: right;\n",
       "    }\n",
       "</style>\n",
       "<table border=\"1\" class=\"dataframe\">\n",
       "  <thead>\n",
       "    <tr style=\"text-align: right;\">\n",
       "      <th></th>\n",
       "      <th>PT_2</th>\n",
       "      <th>PT_4</th>\n",
       "      <th>PT_5</th>\n",
       "      <th>PT_6</th>\n",
       "    </tr>\n",
       "    <tr>\n",
       "      <th>Time</th>\n",
       "      <th></th>\n",
       "      <th></th>\n",
       "      <th></th>\n",
       "      <th></th>\n",
       "    </tr>\n",
       "  </thead>\n",
       "  <tbody>\n",
       "    <tr>\n",
       "      <th>540.00</th>\n",
       "      <td>140.606098</td>\n",
       "      <td>196.584146</td>\n",
       "      <td>166.964634</td>\n",
       "      <td>108.795122</td>\n",
       "    </tr>\n",
       "    <tr>\n",
       "      <th>540.01</th>\n",
       "      <td>126.031707</td>\n",
       "      <td>183.403659</td>\n",
       "      <td>157.470732</td>\n",
       "      <td>97.402439</td>\n",
       "    </tr>\n",
       "    <tr>\n",
       "      <th>540.02</th>\n",
       "      <td>116.517073</td>\n",
       "      <td>164.998780</td>\n",
       "      <td>143.842683</td>\n",
       "      <td>82.626829</td>\n",
       "    </tr>\n",
       "  </tbody>\n",
       "</table>\n",
       "</div>"
      ],
      "text/plain": [
       "              PT_2        PT_4        PT_5        PT_6\n",
       "Time                                                  \n",
       "540.00  140.606098  196.584146  166.964634  108.795122\n",
       "540.01  126.031707  183.403659  157.470732   97.402439\n",
       "540.02  116.517073  164.998780  143.842683   82.626829"
      ]
     },
     "execution_count": 131,
     "metadata": {},
     "output_type": "execute_result"
    }
   ],
   "source": [
    "selected_data.head(3)"
   ]
  },
  {
   "cell_type": "code",
   "execution_count": 132,
   "id": "72b4adfe",
   "metadata": {},
   "outputs": [],
   "source": [
    "#remove empty cells, called as NaN\n",
    "selected_data.dropna(inplace = True)"
   ]
  },
  {
   "cell_type": "code",
   "execution_count": 133,
   "id": "49158fd8",
   "metadata": {},
   "outputs": [],
   "source": [
    "#date of observation or just give a random date\n",
    "original_date = pd.to_datetime('2023-05-25')"
   ]
  },
  {
   "cell_type": "code",
   "execution_count": 134,
   "id": "7b06b1b9",
   "metadata": {},
   "outputs": [],
   "source": [
    "#time reference to the index; easy to manupilate\n",
    "selected_data.index = np.array(\n",
    "    list(\n",
    "        map(lambda x : original_date + timedelta(seconds= x), selected_data.index)\n",
    "    )\n",
    ")"
   ]
  },
  {
   "cell_type": "code",
   "execution_count": 135,
   "id": "3ef88bc0",
   "metadata": {},
   "outputs": [
    {
     "data": {
      "text/html": [
       "<div>\n",
       "<style scoped>\n",
       "    .dataframe tbody tr th:only-of-type {\n",
       "        vertical-align: middle;\n",
       "    }\n",
       "\n",
       "    .dataframe tbody tr th {\n",
       "        vertical-align: top;\n",
       "    }\n",
       "\n",
       "    .dataframe thead th {\n",
       "        text-align: right;\n",
       "    }\n",
       "</style>\n",
       "<table border=\"1\" class=\"dataframe\">\n",
       "  <thead>\n",
       "    <tr style=\"text-align: right;\">\n",
       "      <th></th>\n",
       "      <th>PT_2</th>\n",
       "      <th>PT_4</th>\n",
       "      <th>PT_5</th>\n",
       "      <th>PT_6</th>\n",
       "    </tr>\n",
       "  </thead>\n",
       "  <tbody>\n",
       "    <tr>\n",
       "      <th>2023-05-25 00:09:00.000</th>\n",
       "      <td>140.606098</td>\n",
       "      <td>196.584146</td>\n",
       "      <td>166.964634</td>\n",
       "      <td>108.795122</td>\n",
       "    </tr>\n",
       "    <tr>\n",
       "      <th>2023-05-25 00:09:00.010</th>\n",
       "      <td>126.031707</td>\n",
       "      <td>183.403659</td>\n",
       "      <td>157.470732</td>\n",
       "      <td>97.402439</td>\n",
       "    </tr>\n",
       "    <tr>\n",
       "      <th>2023-05-25 00:09:00.020</th>\n",
       "      <td>116.517073</td>\n",
       "      <td>164.998780</td>\n",
       "      <td>143.842683</td>\n",
       "      <td>82.626829</td>\n",
       "    </tr>\n",
       "  </tbody>\n",
       "</table>\n",
       "</div>"
      ],
      "text/plain": [
       "                               PT_2        PT_4        PT_5        PT_6\n",
       "2023-05-25 00:09:00.000  140.606098  196.584146  166.964634  108.795122\n",
       "2023-05-25 00:09:00.010  126.031707  183.403659  157.470732   97.402439\n",
       "2023-05-25 00:09:00.020  116.517073  164.998780  143.842683   82.626829"
      ]
     },
     "execution_count": 135,
     "metadata": {},
     "output_type": "execute_result"
    }
   ],
   "source": [
    "selected_data.head(3)"
   ]
  },
  {
   "cell_type": "code",
   "execution_count": 136,
   "id": "0edf28f1",
   "metadata": {},
   "outputs": [],
   "source": [
    "#add linear functions to convert to pressure\n",
    "selected_data = selected_data.assign(\n",
    "    PT_2_p = (0.0136*selected_data.PT_2+0.1351), \n",
    "    PT_4_p = 0.0082*selected_data.PT_4-0.1657, \n",
    "    PT_5_p = 0.0129*selected_data.PT_5-0.6643,\n",
    "    PT_6_p = 0.0095*selected_data.PT_6-0.4695\n",
    ")\n",
    "\n",
    "selected_data = selected_data.assign(\n",
    "    PT_2_p_h = 9.81*selected_data.PT_2_p/100,\n",
    "    PT_4_p_h = 9.81*selected_data.PT_4_p/100, \n",
    "    PT_5_p_h = 9.81*selected_data.PT_5_p/100,\n",
    "    PT_6_p_h = 9.81*selected_data.PT_6_p/100\n",
    ")"
   ]
  },
  {
   "cell_type": "markdown",
   "id": "668de1a5",
   "metadata": {},
   "source": [
    "## Select the last 10 min set of pressure data; you can select this as 20 or 30."
   ]
  },
  {
   "cell_type": "code",
   "execution_count": 143,
   "id": "eb24094e",
   "metadata": {
    "scrolled": false
   },
   "outputs": [
    {
     "data": {
      "text/html": [
       "<div>\n",
       "<style scoped>\n",
       "    .dataframe tbody tr th:only-of-type {\n",
       "        vertical-align: middle;\n",
       "    }\n",
       "\n",
       "    .dataframe tbody tr th {\n",
       "        vertical-align: top;\n",
       "    }\n",
       "\n",
       "    .dataframe thead th {\n",
       "        text-align: right;\n",
       "    }\n",
       "</style>\n",
       "<table border=\"1\" class=\"dataframe\">\n",
       "  <thead>\n",
       "    <tr style=\"text-align: right;\">\n",
       "      <th></th>\n",
       "      <th>PT_2</th>\n",
       "      <th>PT_4</th>\n",
       "      <th>PT_5</th>\n",
       "      <th>PT_6</th>\n",
       "      <th>PT_2_p</th>\n",
       "      <th>PT_4_p</th>\n",
       "      <th>PT_5_p</th>\n",
       "      <th>PT_6_p</th>\n",
       "      <th>PT_2_p_h</th>\n",
       "      <th>PT_4_p_h</th>\n",
       "      <th>PT_5_p_h</th>\n",
       "      <th>PT_6_p_h</th>\n",
       "    </tr>\n",
       "  </thead>\n",
       "  <tbody>\n",
       "    <tr>\n",
       "      <th>2023-05-25 00:09:00.000</th>\n",
       "      <td>140.606098</td>\n",
       "      <td>196.584146</td>\n",
       "      <td>166.964634</td>\n",
       "      <td>108.795122</td>\n",
       "      <td>2.047343</td>\n",
       "      <td>1.44629</td>\n",
       "      <td>1.489544</td>\n",
       "      <td>0.564054</td>\n",
       "      <td>0.200844</td>\n",
       "      <td>0.141881</td>\n",
       "      <td>0.146124</td>\n",
       "      <td>0.055334</td>\n",
       "    </tr>\n",
       "    <tr>\n",
       "      <th>2023-05-25 00:09:00.010</th>\n",
       "      <td>126.031707</td>\n",
       "      <td>183.403659</td>\n",
       "      <td>157.470732</td>\n",
       "      <td>97.402439</td>\n",
       "      <td>1.849131</td>\n",
       "      <td>1.33821</td>\n",
       "      <td>1.367072</td>\n",
       "      <td>0.455823</td>\n",
       "      <td>0.181400</td>\n",
       "      <td>0.131278</td>\n",
       "      <td>0.134110</td>\n",
       "      <td>0.044716</td>\n",
       "    </tr>\n",
       "    <tr>\n",
       "      <th>2023-05-25 00:09:00.020</th>\n",
       "      <td>116.517073</td>\n",
       "      <td>164.998780</td>\n",
       "      <td>143.842683</td>\n",
       "      <td>82.626829</td>\n",
       "      <td>1.719732</td>\n",
       "      <td>1.18729</td>\n",
       "      <td>1.191271</td>\n",
       "      <td>0.315455</td>\n",
       "      <td>0.168706</td>\n",
       "      <td>0.116473</td>\n",
       "      <td>0.116864</td>\n",
       "      <td>0.030946</td>\n",
       "    </tr>\n",
       "    <tr>\n",
       "      <th>2023-05-25 00:09:00.030</th>\n",
       "      <td>99.632927</td>\n",
       "      <td>154.752439</td>\n",
       "      <td>129.531707</td>\n",
       "      <td>69.662195</td>\n",
       "      <td>1.490108</td>\n",
       "      <td>1.10327</td>\n",
       "      <td>1.006659</td>\n",
       "      <td>0.192291</td>\n",
       "      <td>0.146180</td>\n",
       "      <td>0.108231</td>\n",
       "      <td>0.098753</td>\n",
       "      <td>0.018864</td>\n",
       "    </tr>\n",
       "    <tr>\n",
       "      <th>2023-05-25 00:09:00.040</th>\n",
       "      <td>93.958537</td>\n",
       "      <td>137.982927</td>\n",
       "      <td>122.932927</td>\n",
       "      <td>58.537805</td>\n",
       "      <td>1.412936</td>\n",
       "      <td>0.96576</td>\n",
       "      <td>0.921535</td>\n",
       "      <td>0.086609</td>\n",
       "      <td>0.138609</td>\n",
       "      <td>0.094741</td>\n",
       "      <td>0.090403</td>\n",
       "      <td>0.008496</td>\n",
       "    </tr>\n",
       "    <tr>\n",
       "      <th>...</th>\n",
       "      <td>...</td>\n",
       "      <td>...</td>\n",
       "      <td>...</td>\n",
       "      <td>...</td>\n",
       "      <td>...</td>\n",
       "      <td>...</td>\n",
       "      <td>...</td>\n",
       "      <td>...</td>\n",
       "      <td>...</td>\n",
       "      <td>...</td>\n",
       "      <td>...</td>\n",
       "      <td>...</td>\n",
       "    </tr>\n",
       "    <tr>\n",
       "      <th>2023-05-25 00:09:24.960</th>\n",
       "      <td>556.437805</td>\n",
       "      <td>531.451220</td>\n",
       "      <td>412.035366</td>\n",
       "      <td>488.235366</td>\n",
       "      <td>7.702654</td>\n",
       "      <td>4.19220</td>\n",
       "      <td>4.650956</td>\n",
       "      <td>4.168736</td>\n",
       "      <td>0.755630</td>\n",
       "      <td>0.411255</td>\n",
       "      <td>0.456259</td>\n",
       "      <td>0.408953</td>\n",
       "    </tr>\n",
       "    <tr>\n",
       "      <th>2023-05-25 00:09:24.970</th>\n",
       "      <td>548.628049</td>\n",
       "      <td>538.589024</td>\n",
       "      <td>410.200000</td>\n",
       "      <td>470.490244</td>\n",
       "      <td>7.596441</td>\n",
       "      <td>4.25073</td>\n",
       "      <td>4.627280</td>\n",
       "      <td>4.000157</td>\n",
       "      <td>0.745211</td>\n",
       "      <td>0.416997</td>\n",
       "      <td>0.453936</td>\n",
       "      <td>0.392415</td>\n",
       "    </tr>\n",
       "    <tr>\n",
       "      <th>2023-05-25 00:09:24.980</th>\n",
       "      <td>532.204878</td>\n",
       "      <td>522.047561</td>\n",
       "      <td>409.779268</td>\n",
       "      <td>462.535366</td>\n",
       "      <td>7.373086</td>\n",
       "      <td>4.11509</td>\n",
       "      <td>4.621853</td>\n",
       "      <td>3.924586</td>\n",
       "      <td>0.723300</td>\n",
       "      <td>0.403690</td>\n",
       "      <td>0.453404</td>\n",
       "      <td>0.385002</td>\n",
       "    </tr>\n",
       "    <tr>\n",
       "      <th>2023-05-25 00:09:24.990</th>\n",
       "      <td>510.852439</td>\n",
       "      <td>521.463415</td>\n",
       "      <td>406.682927</td>\n",
       "      <td>437.676829</td>\n",
       "      <td>7.082693</td>\n",
       "      <td>4.11030</td>\n",
       "      <td>4.581910</td>\n",
       "      <td>3.688430</td>\n",
       "      <td>0.694812</td>\n",
       "      <td>0.403220</td>\n",
       "      <td>0.449485</td>\n",
       "      <td>0.361835</td>\n",
       "    </tr>\n",
       "    <tr>\n",
       "      <th>2023-05-25 00:09:25.000</th>\n",
       "      <td>500.421951</td>\n",
       "      <td>496.631707</td>\n",
       "      <td>390.252439</td>\n",
       "      <td>424.098780</td>\n",
       "      <td>6.940839</td>\n",
       "      <td>3.90668</td>\n",
       "      <td>4.369956</td>\n",
       "      <td>3.559438</td>\n",
       "      <td>0.680896</td>\n",
       "      <td>0.383245</td>\n",
       "      <td>0.428693</td>\n",
       "      <td>0.349181</td>\n",
       "    </tr>\n",
       "  </tbody>\n",
       "</table>\n",
       "<p>2501 rows × 12 columns</p>\n",
       "</div>"
      ],
      "text/plain": [
       "                               PT_2        PT_4        PT_5        PT_6  \\\n",
       "2023-05-25 00:09:00.000  140.606098  196.584146  166.964634  108.795122   \n",
       "2023-05-25 00:09:00.010  126.031707  183.403659  157.470732   97.402439   \n",
       "2023-05-25 00:09:00.020  116.517073  164.998780  143.842683   82.626829   \n",
       "2023-05-25 00:09:00.030   99.632927  154.752439  129.531707   69.662195   \n",
       "2023-05-25 00:09:00.040   93.958537  137.982927  122.932927   58.537805   \n",
       "...                             ...         ...         ...         ...   \n",
       "2023-05-25 00:09:24.960  556.437805  531.451220  412.035366  488.235366   \n",
       "2023-05-25 00:09:24.970  548.628049  538.589024  410.200000  470.490244   \n",
       "2023-05-25 00:09:24.980  532.204878  522.047561  409.779268  462.535366   \n",
       "2023-05-25 00:09:24.990  510.852439  521.463415  406.682927  437.676829   \n",
       "2023-05-25 00:09:25.000  500.421951  496.631707  390.252439  424.098780   \n",
       "\n",
       "                           PT_2_p   PT_4_p    PT_5_p    PT_6_p  PT_2_p_h  \\\n",
       "2023-05-25 00:09:00.000  2.047343  1.44629  1.489544  0.564054  0.200844   \n",
       "2023-05-25 00:09:00.010  1.849131  1.33821  1.367072  0.455823  0.181400   \n",
       "2023-05-25 00:09:00.020  1.719732  1.18729  1.191271  0.315455  0.168706   \n",
       "2023-05-25 00:09:00.030  1.490108  1.10327  1.006659  0.192291  0.146180   \n",
       "2023-05-25 00:09:00.040  1.412936  0.96576  0.921535  0.086609  0.138609   \n",
       "...                           ...      ...       ...       ...       ...   \n",
       "2023-05-25 00:09:24.960  7.702654  4.19220  4.650956  4.168736  0.755630   \n",
       "2023-05-25 00:09:24.970  7.596441  4.25073  4.627280  4.000157  0.745211   \n",
       "2023-05-25 00:09:24.980  7.373086  4.11509  4.621853  3.924586  0.723300   \n",
       "2023-05-25 00:09:24.990  7.082693  4.11030  4.581910  3.688430  0.694812   \n",
       "2023-05-25 00:09:25.000  6.940839  3.90668  4.369956  3.559438  0.680896   \n",
       "\n",
       "                         PT_4_p_h  PT_5_p_h  PT_6_p_h  \n",
       "2023-05-25 00:09:00.000  0.141881  0.146124  0.055334  \n",
       "2023-05-25 00:09:00.010  0.131278  0.134110  0.044716  \n",
       "2023-05-25 00:09:00.020  0.116473  0.116864  0.030946  \n",
       "2023-05-25 00:09:00.030  0.108231  0.098753  0.018864  \n",
       "2023-05-25 00:09:00.040  0.094741  0.090403  0.008496  \n",
       "...                           ...       ...       ...  \n",
       "2023-05-25 00:09:24.960  0.411255  0.456259  0.408953  \n",
       "2023-05-25 00:09:24.970  0.416997  0.453936  0.392415  \n",
       "2023-05-25 00:09:24.980  0.403690  0.453404  0.385002  \n",
       "2023-05-25 00:09:24.990  0.403220  0.449485  0.361835  \n",
       "2023-05-25 00:09:25.000  0.383245  0.428693  0.349181  \n",
       "\n",
       "[2501 rows x 12 columns]"
      ]
     },
     "execution_count": 143,
     "metadata": {},
     "output_type": "execute_result"
    }
   ],
   "source": [
    "#select the first 10 mins data set...\n",
    "selected_data.loc[selected_data.index < selected_data.index[0]+timedelta(minutes =10)]"
   ]
  },
  {
   "cell_type": "markdown",
   "id": "7e14683b",
   "metadata": {},
   "source": [
    "### Select a pressure gauge and last 2T time of the measurements to select a complete signal."
   ]
  },
  {
   "cell_type": "markdown",
   "id": "5874d621",
   "metadata": {},
   "source": [
    "<font color=\"#f28482\"><b><big> Change this data accordingly!!: </font>"
   ]
  },
  {
   "cell_type": "code",
   "execution_count": 151,
   "id": "e539d3fe",
   "metadata": {},
   "outputs": [],
   "source": [
    "#define the wave period\n",
    "wave_period = 1.4"
   ]
  },
  {
   "cell_type": "code",
   "execution_count": 196,
   "id": "18e8cc39",
   "metadata": {},
   "outputs": [],
   "source": [
    "#here, we select the 2T of the last pressure data...\n",
    "temp_p_variations = selected_data.iloc[-int(wave_period*2*100):,:].PT_2_p_h"
   ]
  },
  {
   "cell_type": "markdown",
   "id": "d1538631",
   "metadata": {},
   "source": [
    "### Identify the zero crossings"
   ]
  },
  {
   "cell_type": "code",
   "execution_count": 319,
   "id": "acf2dc97",
   "metadata": {},
   "outputs": [],
   "source": [
    "# Find indices where the signal changes from positive to negative or vice versa, and select those data...\n",
    "zero_crossings = temp_p_variations[\n",
    "    temp_p_variations.index[\n",
    "        np.where(np.diff(np.sign(temp_p_variations)))[0]\n",
    "    ]\n",
    "]"
   ]
  },
  {
   "cell_type": "code",
   "execution_count": 320,
   "id": "cf76e157",
   "metadata": {},
   "outputs": [],
   "source": [
    "#get the time deference between two selections of zero\n",
    "diff = zero_crossings.index.to_series().diff().dt.total_seconds()"
   ]
  },
  {
   "cell_type": "code",
   "execution_count": 321,
   "id": "be7099c6",
   "metadata": {},
   "outputs": [],
   "source": [
    "#drop the unnecessary points and select the last 3 points\n",
    "zero_crossings = zero_crossings[\n",
    "    ~zero_crossings.index.isin(diff[diff < wave_period/4].index)\n",
    "][-3:]"
   ]
  },
  {
   "cell_type": "code",
   "execution_count": 330,
   "id": "0ffc9615",
   "metadata": {},
   "outputs": [
    {
     "data": {
      "text/plain": [
       "2023-05-25 00:09:23.330   -0.028174\n",
       "2023-05-25 00:09:23.940    0.014265\n",
       "2023-05-25 00:09:24.730   -0.029075\n",
       "Name: PT_2_p_h, dtype: float64"
      ]
     },
     "execution_count": 330,
     "metadata": {},
     "output_type": "execute_result"
    }
   ],
   "source": [
    "zero_crossings"
   ]
  },
  {
   "cell_type": "code",
   "execution_count": 333,
   "id": "e3a296ec",
   "metadata": {},
   "outputs": [],
   "source": [
    "selected_signal = temp_p_variations[zero_crossings.index[-3]:zero_crossings.index[-1]]"
   ]
  },
  {
   "cell_type": "markdown",
   "id": "a5222c6f",
   "metadata": {},
   "source": [
    "### Ploting the pressure changes..."
   ]
  },
  {
   "cell_type": "code",
   "execution_count": 244,
   "id": "1d639f95",
   "metadata": {},
   "outputs": [],
   "source": [
    "#visualization - get scientific graphs...\n",
    "scientific_graphs()"
   ]
  },
  {
   "cell_type": "code",
   "execution_count": 335,
   "id": "19fb639b",
   "metadata": {},
   "outputs": [
    {
     "name": "stderr",
     "output_type": "stream",
     "text": [
      "C:\\Users\\salik\\AppData\\Local\\Temp\\ipykernel_23412\\2977006767.py:19: UserWarning: FixedFormatter should only be used together with FixedLocator\n",
      "  plt.gca().xaxis.set_major_formatter(\n"
     ]
    },
    {
     "data": {
      "image/png": "[encoded data removed]",
      "text/plain": [
       "<Figure size 1350x600 with 1 Axes>"
      ]
     },
     "metadata": {},
     "output_type": "display_data"
    }
   ],
   "source": [
    "plt.figure(figsize =(4.5,2.0), dpi = 300)\n",
    "plt.plot(\n",
    "    temp_p_variations, 'k',linewidth = 0.2\n",
    ")\n",
    "plt.plot(\n",
    "    selected_signal, '#d62828',linewidth = 0.9\n",
    ")\n",
    "plt.plot(\n",
    "    zero_crossings,\n",
    "    'w.', ms = 7, mew =0.3, mec = '#ae2012'\n",
    ")\n",
    " \n",
    "plt.xlabel(\"Time (min:sec)\")\n",
    "plt.ylabel(\"Pressure (m)\")\n",
    "\n",
    "plt.grid(linewidth = 0.1)\n",
    "\n",
    "# Customize x-axis tick format\n",
    "plt.gca().xaxis.set_major_formatter(\n",
    "    plt.FixedFormatter(\n",
    "        [dt.strftime('%M:%S.%f')[:-4] for dt in temp_p_variations.index]\n",
    "    )\n",
    ")\n",
    "plt.axhline(color = 'tab:green',linewidth = 0.5)\n",
    "# legend =  plt.legend(,frameon=True)\n",
    "# legend.get_frame().set_linewidth(0.4)\n",
    "# legend.get_frame().set_edgecolor(\"k\")\n",
    "plt.title('Pressure variation in the last 2T time', fontweight=\"bold\")\n",
    "plt.show()"
   ]
  },
  {
   "cell_type": "markdown",
   "id": "61725a54",
   "metadata": {},
   "source": [
    "# Calculating the mean pressure"
   ]
  },
  {
   "cell_type": "code",
   "execution_count": 339,
   "id": "58f60610",
   "metadata": {},
   "outputs": [
    {
     "data": {
      "text/plain": [
       "0.04847049524961078"
      ]
     },
     "execution_count": 339,
     "metadata": {},
     "output_type": "execute_result"
    }
   ],
   "source": [
    "selected_signal.mean()"
   ]
  },
  {
   "cell_type": "code",
   "execution_count": 338,
   "id": "dd881e42",
   "metadata": {},
   "outputs": [
    {
     "data": {
      "text/plain": [
       "0.28438224476076807"
      ]
     },
     "execution_count": 338,
     "metadata": {},
     "output_type": "execute_result"
    }
   ],
   "source": [
    "selected_signal.abs().mean()"
   ]
  },
  {
   "cell_type": "code",
   "execution_count": null,
   "id": "4fc05505",
   "metadata": {},
   "outputs": [],
   "source": []
  },
  {
   "cell_type": "code",
   "execution_count": null,
   "id": "00095a6e",
   "metadata": {},
   "outputs": [],
   "source": []
  },
  {
   "cell_type": "code",
   "execution_count": null,
   "id": "9d1bc2a1",
   "metadata": {},
   "outputs": [],
   "source": []
  },
  {
   "cell_type": "code",
   "execution_count": null,
   "id": "38f253ac",
   "metadata": {},
   "outputs": [],
   "source": []
  },
  {
   "cell_type": "code",
   "execution_count": null,
   "id": "7b5d3b3b",
   "metadata": {},
   "outputs": [],
   "source": []
  },
  {
   "cell_type": "code",
   "execution_count": null,
   "id": "8aedf658",
   "metadata": {},
   "outputs": [],
   "source": []
  },
  {
   "cell_type": "code",
   "execution_count": null,
   "id": "d8a9ed5f",
   "metadata": {},
   "outputs": [],
   "source": []
  },
  {
   "cell_type": "code",
   "execution_count": 1,
   "id": "34dc6382",
   "metadata": {},
   "outputs": [
    {
     "ename": "SyntaxError",
     "evalue": "invalid syntax (3319058519.py, line 1)",
     "output_type": "error",
     "traceback": [
      "\u001b[1;36m  Input \u001b[1;32mIn [1]\u001b[1;36m\u001b[0m\n\u001b[1;33m    stop!\u001b[0m\n\u001b[1;37m        ^\u001b[0m\n\u001b[1;31mSyntaxError\u001b[0m\u001b[1;31m:\u001b[0m invalid syntax\n"
     ]
    }
   ],
   "source": [
    "stop!"
   ]
  },
  {
   "cell_type": "markdown",
   "id": "43e45cf9",
   "metadata": {},
   "source": [
    "# Extra works...\n",
    "\n",
    "here I normally do extra calculations. stop! sign stops the code, hence, you need to come here and run them again..."
   ]
  },
  {
   "cell_type": "code",
   "execution_count": null,
   "id": "f401717b",
   "metadata": {},
   "outputs": [],
   "source": []
  },
  {
   "cell_type": "code",
   "execution_count": null,
   "id": "386136de",
   "metadata": {},
   "outputs": [],
   "source": []
  },
  {
   "cell_type": "code",
   "execution_count": null,
   "id": "02b229c6",
   "metadata": {},
   "outputs": [],
   "source": []
  },
  {
   "cell_type": "code",
   "execution_count": null,
   "id": "53f5ed2a",
   "metadata": {},
   "outputs": [],
   "source": []
  },
  {
   "cell_type": "code",
   "execution_count": null,
   "id": "d30fa62a",
   "metadata": {},
   "outputs": [],
   "source": []
  }
 ],
 "metadata": {
  "kernelspec": {
   "display_name": "Python 3 (ipykernel)",
   "language": "python",
   "name": "python3"
  },
  "language_info": {
   "codemirror_mode": {
    "name": "ipython",
    "version": 3
   },
   "file_extension": ".py",
   "mimetype": "text/x-python",
   "name": "python",
   "nbconvert_exporter": "python",
   "pygments_lexer": "ipython3",
   "version": "3.9.12"
  }
 },
 "nbformat": 4,
 "nbformat_minor": 5
}
